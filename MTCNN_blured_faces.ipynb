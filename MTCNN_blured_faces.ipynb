{
 "cells": [
  {
   "cell_type": "code",
   "execution_count": 1,
   "id": "50d8077a",
   "metadata": {},
   "outputs": [],
   "source": [
    "from matplotlib import pyplot\n",
    "from matplotlib.patches import Rectangle\n",
    "from mtcnn.mtcnn import MTCNN\n",
    "import cv2"
   ]
  },
  {
   "cell_type": "markdown",
   "id": "207c69af",
   "metadata": {},
   "source": [
    "# SINGLE IMAGE"
   ]
  },
  {
   "cell_type": "code",
   "execution_count": 13,
   "id": "a7ed45de",
   "metadata": {},
   "outputs": [],
   "source": [
    "\n",
    "# load the image\n",
    "img = cv2.imread('face_3.png')\n",
    "detector = MTCNN()\n",
    "faces = detector.detect_faces(img)\n",
    "# get the context for drawing boxes\n",
    "#ax = pyplot.gca()\n",
    "# plot each box\n",
    "for result in faces:\n",
    "    # Extract coordinates from faces\n",
    "    values_view = result.values()\n",
    "    value_iterator = iter(values_view)\n",
    "    first_value = next(value_iterator)\n",
    "    # Set variables as x,y,w,h format\n",
    "    x,y,w,h = first_value\n",
    "    #print(x,y,w,h)\n",
    "    # Apply the blur\n",
    "    roi = img[y:y+h, x:x+w]\n",
    "    roi = cv2.GaussianBlur(roi, (25,25),cv2.BORDER_ISOLATED)\n",
    "    img[y:y+roi.shape[0], x:x+roi.shape[1]] = roi\n",
    "    cv2.rectangle(img, (x, y), (x + w, y + h), (0, 255, 0), 2)\n",
    "cv2.imshow('Face_detected', img)\n",
    "cv2.imwrite(\"blured_faces.jpg\",img)\n",
    "cv2.waitKey()\n",
    "cv2.destroyAllWindows()"
   ]
  },
  {
   "cell_type": "code",
   "execution_count": null,
   "id": "0b36976d",
   "metadata": {},
   "outputs": [],
   "source": []
  },
  {
   "cell_type": "markdown",
   "id": "1a72a826",
   "metadata": {},
   "source": [
    "# VIDEO ~ WEBCAM"
   ]
  },
  {
   "cell_type": "code",
   "execution_count": 9,
   "id": "73233267",
   "metadata": {},
   "outputs": [],
   "source": [
    "#cap = cv2.VideoCapture(0)\n",
    "cap = cv2.VideoCapture('video_test.mp4')\n",
    "detector = MTCNN()\n",
    "frame_width = int(cap.get(3))\n",
    "frame_height = int(cap.get(4))\n",
    "\n",
    "out = cv2.VideoWriter('outp.avi',cv2.VideoWriter_fourcc('M','J','P','G'), 10, (frame_width,frame_height))\n",
    "\n",
    "\n",
    "while True:\n",
    "    ret, frame = cap.read()\n",
    "\n",
    "    faces = detector.detect_faces(frame)\n",
    "    # get the context for drawing boxes\n",
    "    # plot each box\n",
    "    for result in faces:\n",
    "        # Extract coordinates from faces\n",
    "        values_view = result.values()\n",
    "        value_iterator = iter(values_view)\n",
    "        first_value = next(value_iterator)\n",
    "        # Set variables as x,y,w,h format\n",
    "        x,y,w,h = first_value\n",
    "        #print(x,y,w,h)\n",
    "        # Apply the blur\n",
    "        roi = frame[y:y+h, x:x+w]\n",
    "        roi = cv2.GaussianBlur(roi, (25,25),cv2.BORDER_ISOLATED)\n",
    "        frame[y:y+roi.shape[0], x:x+roi.shape[1]] = roi\n",
    "        cv2.rectangle(frame, (x, y), (x + w, y + h), (0, 255, 0), 2)\n",
    "        out.write(frame)\n",
    "        cv2.imshow('Face_detected', frame)\n",
    "    if cv2.waitKey(1) & 0xFF == ord('q'):\n",
    "        break\n",
    "out.release()\n",
    "cap.release()\n",
    "cv2.destroyAllWindows()"
   ]
  },
  {
   "cell_type": "code",
   "execution_count": null,
   "id": "8ce191e6",
   "metadata": {},
   "outputs": [],
   "source": []
  }
 ],
 "metadata": {
  "kernelspec": {
   "display_name": "gputest",
   "language": "python",
   "name": "gputest"
  },
  "language_info": {
   "codemirror_mode": {
    "name": "ipython",
    "version": 3
   },
   "file_extension": ".py",
   "mimetype": "text/x-python",
   "name": "python",
   "nbconvert_exporter": "python",
   "pygments_lexer": "ipython3",
   "version": "3.6.13"
  }
 },
 "nbformat": 4,
 "nbformat_minor": 5
}
